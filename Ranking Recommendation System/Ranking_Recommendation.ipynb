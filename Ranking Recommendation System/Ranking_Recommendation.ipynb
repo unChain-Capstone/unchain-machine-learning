{
  "cells": [
    {
      "cell_type": "code",
      "execution_count": 19,
      "metadata": {
        "id": "Cys2PWn1Cfpc"
      },
      "outputs": [],
      "source": [
        "!pip install -q tensorflow-recommenders\n",
        "!pip install -q --upgrade tensorflow-datasets\n",
        "!pip install -q scann"
      ]
    },
    {
      "cell_type": "code",
      "execution_count": 20,
      "metadata": {
        "id": "_VBYC9toTaQ8"
      },
      "outputs": [],
      "source": [
        "import pandas as pd\n",
        "import numpy as np\n",
        "import json\n",
        "import tensorflow as tf\n",
        "import os\n",
        "os.environ['TF_USE_LEGACY_KERAS'] = '1'\n",
        "import pprint\n",
        "import tempfile\n",
        "import tensorflow_datasets as tfds\n",
        "import tensorflow_recommenders as tfrs\n",
        "\n",
        "from sklearn.cluster import KMeans\n",
        "from sklearn.preprocessing import StandardScaler\n",
        "from sklearn.preprocessing import OneHotEncoder\n",
        "from typing import Dict, Text\n"
      ]
    },
    {
      "cell_type": "code",
      "execution_count": 21,
      "metadata": {
        "colab": {
          "base_uri": "https://localhost:8080/",
          "height": 243
        },
        "id": "nkp3zMa9Thq0",
        "outputId": "331ae734-aeab-44fc-eae2-3191405091b2"
      },
      "outputs": [
        {
          "name": "stdout",
          "output_type": "stream",
          "text": [
            "Drive already mounted at /content/drive; to attempt to forcibly remount, call drive.mount(\"/content/drive\", force_remount=True).\n"
          ]
        },
        {
          "data": {
            "application/vnd.google.colaboratory.intrinsic+json": {
              "type": "dataframe",
              "variable_name": "df"
            },
            "text/html": [
              "\n",
              "  <div id=\"df-3c3f04bb-2edd-4451-bfc1-0a3e82a4748d\" class=\"colab-df-container\">\n",
              "    <div>\n",
              "<style scoped>\n",
              "    .dataframe tbody tr th:only-of-type {\n",
              "        vertical-align: middle;\n",
              "    }\n",
              "\n",
              "    .dataframe tbody tr th {\n",
              "        vertical-align: top;\n",
              "    }\n",
              "\n",
              "    .dataframe thead th {\n",
              "        text-align: right;\n",
              "    }\n",
              "</style>\n",
              "<table border=\"1\" class=\"dataframe\">\n",
              "  <thead>\n",
              "    <tr style=\"text-align: right;\">\n",
              "      <th></th>\n",
              "      <th>User ID</th>\n",
              "      <th>Date</th>\n",
              "      <th>Dish Name</th>\n",
              "      <th>Sugar</th>\n",
              "    </tr>\n",
              "  </thead>\n",
              "  <tbody>\n",
              "    <tr>\n",
              "      <th>0</th>\n",
              "      <td>1</td>\n",
              "      <td>2014-09-15</td>\n",
              "      <td>my - McDonalds Espresso Pronto® Flat White, 2 ...</td>\n",
              "      <td>29</td>\n",
              "    </tr>\n",
              "    <tr>\n",
              "      <th>1</th>\n",
              "      <td>1</td>\n",
              "      <td>2014-09-15</td>\n",
              "      <td>Uncle Tobys Australia - Vita Brits, 3 Biscuits...</td>\n",
              "      <td>0</td>\n",
              "    </tr>\n",
              "    <tr>\n",
              "      <th>2</th>\n",
              "      <td>1</td>\n",
              "      <td>2014-09-15</td>\n",
              "      <td>Pauls - Smarter White Milk, 600 ml</td>\n",
              "      <td>34</td>\n",
              "    </tr>\n",
              "    <tr>\n",
              "      <th>3</th>\n",
              "      <td>1</td>\n",
              "      <td>2014-09-15</td>\n",
              "      <td>Quick Added Calories, 500 calories</td>\n",
              "      <td>0</td>\n",
              "    </tr>\n",
              "    <tr>\n",
              "      <th>4</th>\n",
              "      <td>1</td>\n",
              "      <td>2014-09-15</td>\n",
              "      <td>Quick Added Calories, 1,000 calories</td>\n",
              "      <td>0</td>\n",
              "    </tr>\n",
              "  </tbody>\n",
              "</table>\n",
              "</div>\n",
              "    <div class=\"colab-df-buttons\">\n",
              "\n",
              "  <div class=\"colab-df-container\">\n",
              "    <button class=\"colab-df-convert\" onclick=\"convertToInteractive('df-3c3f04bb-2edd-4451-bfc1-0a3e82a4748d')\"\n",
              "            title=\"Convert this dataframe to an interactive table.\"\n",
              "            style=\"display:none;\">\n",
              "\n",
              "  <svg xmlns=\"http://www.w3.org/2000/svg\" height=\"24px\" viewBox=\"0 -960 960 960\">\n",
              "    <path d=\"M120-120v-720h720v720H120Zm60-500h600v-160H180v160Zm220 220h160v-160H400v160Zm0 220h160v-160H400v160ZM180-400h160v-160H180v160Zm440 0h160v-160H620v160ZM180-180h160v-160H180v160Zm440 0h160v-160H620v160Z\"/>\n",
              "  </svg>\n",
              "    </button>\n",
              "\n",
              "  <style>\n",
              "    .colab-df-container {\n",
              "      display:flex;\n",
              "      gap: 12px;\n",
              "    }\n",
              "\n",
              "    .colab-df-convert {\n",
              "      background-color: #E8F0FE;\n",
              "      border: none;\n",
              "      border-radius: 50%;\n",
              "      cursor: pointer;\n",
              "      display: none;\n",
              "      fill: #1967D2;\n",
              "      height: 32px;\n",
              "      padding: 0 0 0 0;\n",
              "      width: 32px;\n",
              "    }\n",
              "\n",
              "    .colab-df-convert:hover {\n",
              "      background-color: #E2EBFA;\n",
              "      box-shadow: 0px 1px 2px rgba(60, 64, 67, 0.3), 0px 1px 3px 1px rgba(60, 64, 67, 0.15);\n",
              "      fill: #174EA6;\n",
              "    }\n",
              "\n",
              "    .colab-df-buttons div {\n",
              "      margin-bottom: 4px;\n",
              "    }\n",
              "\n",
              "    [theme=dark] .colab-df-convert {\n",
              "      background-color: #3B4455;\n",
              "      fill: #D2E3FC;\n",
              "    }\n",
              "\n",
              "    [theme=dark] .colab-df-convert:hover {\n",
              "      background-color: #434B5C;\n",
              "      box-shadow: 0px 1px 3px 1px rgba(0, 0, 0, 0.15);\n",
              "      filter: drop-shadow(0px 1px 2px rgba(0, 0, 0, 0.3));\n",
              "      fill: #FFFFFF;\n",
              "    }\n",
              "  </style>\n",
              "\n",
              "    <script>\n",
              "      const buttonEl =\n",
              "        document.querySelector('#df-3c3f04bb-2edd-4451-bfc1-0a3e82a4748d button.colab-df-convert');\n",
              "      buttonEl.style.display =\n",
              "        google.colab.kernel.accessAllowed ? 'block' : 'none';\n",
              "\n",
              "      async function convertToInteractive(key) {\n",
              "        const element = document.querySelector('#df-3c3f04bb-2edd-4451-bfc1-0a3e82a4748d');\n",
              "        const dataTable =\n",
              "          await google.colab.kernel.invokeFunction('convertToInteractive',\n",
              "                                                    [key], {});\n",
              "        if (!dataTable) return;\n",
              "\n",
              "        const docLinkHtml = 'Like what you see? Visit the ' +\n",
              "          '<a target=\"_blank\" href=https://colab.research.google.com/notebooks/data_table.ipynb>data table notebook</a>'\n",
              "          + ' to learn more about interactive tables.';\n",
              "        element.innerHTML = '';\n",
              "        dataTable['output_type'] = 'display_data';\n",
              "        await google.colab.output.renderOutput(dataTable, element);\n",
              "        const docLink = document.createElement('div');\n",
              "        docLink.innerHTML = docLinkHtml;\n",
              "        element.appendChild(docLink);\n",
              "      }\n",
              "    </script>\n",
              "  </div>\n",
              "\n",
              "\n",
              "<div id=\"df-3b51f2c3-debd-4f7b-82ef-f0eb80738f7d\">\n",
              "  <button class=\"colab-df-quickchart\" onclick=\"quickchart('df-3b51f2c3-debd-4f7b-82ef-f0eb80738f7d')\"\n",
              "            title=\"Suggest charts\"\n",
              "            style=\"display:none;\">\n",
              "\n",
              "<svg xmlns=\"http://www.w3.org/2000/svg\" height=\"24px\"viewBox=\"0 0 24 24\"\n",
              "     width=\"24px\">\n",
              "    <g>\n",
              "        <path d=\"M19 3H5c-1.1 0-2 .9-2 2v14c0 1.1.9 2 2 2h14c1.1 0 2-.9 2-2V5c0-1.1-.9-2-2-2zM9 17H7v-7h2v7zm4 0h-2V7h2v10zm4 0h-2v-4h2v4z\"/>\n",
              "    </g>\n",
              "</svg>\n",
              "  </button>\n",
              "\n",
              "<style>\n",
              "  .colab-df-quickchart {\n",
              "      --bg-color: #E8F0FE;\n",
              "      --fill-color: #1967D2;\n",
              "      --hover-bg-color: #E2EBFA;\n",
              "      --hover-fill-color: #174EA6;\n",
              "      --disabled-fill-color: #AAA;\n",
              "      --disabled-bg-color: #DDD;\n",
              "  }\n",
              "\n",
              "  [theme=dark] .colab-df-quickchart {\n",
              "      --bg-color: #3B4455;\n",
              "      --fill-color: #D2E3FC;\n",
              "      --hover-bg-color: #434B5C;\n",
              "      --hover-fill-color: #FFFFFF;\n",
              "      --disabled-bg-color: #3B4455;\n",
              "      --disabled-fill-color: #666;\n",
              "  }\n",
              "\n",
              "  .colab-df-quickchart {\n",
              "    background-color: var(--bg-color);\n",
              "    border: none;\n",
              "    border-radius: 50%;\n",
              "    cursor: pointer;\n",
              "    display: none;\n",
              "    fill: var(--fill-color);\n",
              "    height: 32px;\n",
              "    padding: 0;\n",
              "    width: 32px;\n",
              "  }\n",
              "\n",
              "  .colab-df-quickchart:hover {\n",
              "    background-color: var(--hover-bg-color);\n",
              "    box-shadow: 0 1px 2px rgba(60, 64, 67, 0.3), 0 1px 3px 1px rgba(60, 64, 67, 0.15);\n",
              "    fill: var(--button-hover-fill-color);\n",
              "  }\n",
              "\n",
              "  .colab-df-quickchart-complete:disabled,\n",
              "  .colab-df-quickchart-complete:disabled:hover {\n",
              "    background-color: var(--disabled-bg-color);\n",
              "    fill: var(--disabled-fill-color);\n",
              "    box-shadow: none;\n",
              "  }\n",
              "\n",
              "  .colab-df-spinner {\n",
              "    border: 2px solid var(--fill-color);\n",
              "    border-color: transparent;\n",
              "    border-bottom-color: var(--fill-color);\n",
              "    animation:\n",
              "      spin 1s steps(1) infinite;\n",
              "  }\n",
              "\n",
              "  @keyframes spin {\n",
              "    0% {\n",
              "      border-color: transparent;\n",
              "      border-bottom-color: var(--fill-color);\n",
              "      border-left-color: var(--fill-color);\n",
              "    }\n",
              "    20% {\n",
              "      border-color: transparent;\n",
              "      border-left-color: var(--fill-color);\n",
              "      border-top-color: var(--fill-color);\n",
              "    }\n",
              "    30% {\n",
              "      border-color: transparent;\n",
              "      border-left-color: var(--fill-color);\n",
              "      border-top-color: var(--fill-color);\n",
              "      border-right-color: var(--fill-color);\n",
              "    }\n",
              "    40% {\n",
              "      border-color: transparent;\n",
              "      border-right-color: var(--fill-color);\n",
              "      border-top-color: var(--fill-color);\n",
              "    }\n",
              "    60% {\n",
              "      border-color: transparent;\n",
              "      border-right-color: var(--fill-color);\n",
              "    }\n",
              "    80% {\n",
              "      border-color: transparent;\n",
              "      border-right-color: var(--fill-color);\n",
              "      border-bottom-color: var(--fill-color);\n",
              "    }\n",
              "    90% {\n",
              "      border-color: transparent;\n",
              "      border-bottom-color: var(--fill-color);\n",
              "    }\n",
              "  }\n",
              "</style>\n",
              "\n",
              "  <script>\n",
              "    async function quickchart(key) {\n",
              "      const quickchartButtonEl =\n",
              "        document.querySelector('#' + key + ' button');\n",
              "      quickchartButtonEl.disabled = true;  // To prevent multiple clicks.\n",
              "      quickchartButtonEl.classList.add('colab-df-spinner');\n",
              "      try {\n",
              "        const charts = await google.colab.kernel.invokeFunction(\n",
              "            'suggestCharts', [key], {});\n",
              "      } catch (error) {\n",
              "        console.error('Error during call to suggestCharts:', error);\n",
              "      }\n",
              "      quickchartButtonEl.classList.remove('colab-df-spinner');\n",
              "      quickchartButtonEl.classList.add('colab-df-quickchart-complete');\n",
              "    }\n",
              "    (() => {\n",
              "      let quickchartButtonEl =\n",
              "        document.querySelector('#df-3b51f2c3-debd-4f7b-82ef-f0eb80738f7d button');\n",
              "      quickchartButtonEl.style.display =\n",
              "        google.colab.kernel.accessAllowed ? 'block' : 'none';\n",
              "    })();\n",
              "  </script>\n",
              "</div>\n",
              "\n",
              "    </div>\n",
              "  </div>\n"
            ],
            "text/plain": [
              "   User ID        Date                                          Dish Name  \\\n",
              "0        1  2014-09-15  my - McDonalds Espresso Pronto® Flat White, 2 ...   \n",
              "1        1  2014-09-15  Uncle Tobys Australia - Vita Brits, 3 Biscuits...   \n",
              "2        1  2014-09-15                 Pauls - Smarter White Milk, 600 ml   \n",
              "3        1  2014-09-15                 Quick Added Calories, 500 calories   \n",
              "4        1  2014-09-15               Quick Added Calories, 1,000 calories   \n",
              "\n",
              "   Sugar  \n",
              "0     29  \n",
              "1      0  \n",
              "2     34  \n",
              "3      0  \n",
              "4      0  "
            ]
          },
          "execution_count": 21,
          "metadata": {},
          "output_type": "execute_result"
        }
      ],
      "source": [
        "# Mount Google Drive\n",
        "from google.colab import drive\n",
        "drive.mount('/content/drive')\n",
        "\n",
        "# Rest of your code to read the CSV file\n",
        "file = '/content/drive/My Drive/sugar.csv'\n",
        "df = pd.read_csv(file)\n",
        "df.head()\n"
      ]
    },
    {
      "cell_type": "code",
      "execution_count": 22,
      "metadata": {
        "id": "0wppiigTC-Kx"
      },
      "outputs": [],
      "source": [
        "df['Rating'] = np.random.randint(1, 6, size=len(df))\n",
        "df.to_csv('ranking.csv', index=False)"
      ]
    },
    {
      "cell_type": "code",
      "execution_count": 26,
      "metadata": {
        "id": "MzbN1oqXcBam"
      },
      "outputs": [],
      "source": [
        "df[\"User ID\"] = df[\"User ID\"].astype(str)\n",
        "df[\"Rating\"] = df[\"Rating\"].replace({',': '.'}, regex=True).astype(float)\n",
        "df[\"Dish Name\"] = df[\"Dish Name\"].astype(str)\n",
        "\n",
        "final_df = tf.data.Dataset.from_tensor_slices({\n",
        "    \"User ID\": df[\"User ID\"].values,\n",
        "    \"Dish Name\": df[\"Dish Name\"].values,\n",
        "    \"Rating\": df[\"Rating\"].values,\n",
        "})"
      ]
    },
    {
      "cell_type": "code",
      "execution_count": 27,
      "metadata": {
        "id": "eTcCzpFHUSEO"
      },
      "outputs": [],
      "source": [
        "# Shuffle and split the dataset\n",
        "tf.random.set_seed(42)\n",
        "shuffled = final_df.shuffle(100_000, seed=42, reshuffle_each_iteration=False)\n",
        "\n",
        "# Split into train and test\n",
        "train = shuffled.take(80_000)\n",
        "test = shuffled.skip(80_000).take(20_000)\n"
      ]
    },
    {
      "cell_type": "code",
      "execution_count": 28,
      "metadata": {
        "id": "cTo9z_reUy2K"
      },
      "outputs": [],
      "source": [
        "user_ids = final_df.batch(10_000).map(lambda x: x[\"User ID\"])\n",
        "dish_names = final_df.batch(1_000).map(lambda x: x[\"Dish Name\"])\n",
        "\n",
        "unique_user_ids = np.unique(np.concatenate(list(user_ids)))\n",
        "unique_dish_names = np.unique(np.concatenate(list(dish_names)))"
      ]
    },
    {
      "cell_type": "code",
      "execution_count": 29,
      "metadata": {
        "id": "Amtw35TfU56K"
      },
      "outputs": [],
      "source": [
        "class LowSugarRecommendationModel(tf.keras.Model):\n",
        "\n",
        "    def __init__(self):\n",
        "        super().__init__()\n",
        "        embedding_dimension = 32\n",
        "\n",
        "        # Compute embeddings for users.\n",
        "        self.user_embeddings = tf.keras.Sequential([\n",
        "            tf.keras.layers.StringLookup(\n",
        "                vocabulary=unique_user_ids, mask_token=None),\n",
        "            tf.keras.layers.Embedding(len(unique_user_ids) + 1, embedding_dimension)\n",
        "        ])\n",
        "\n",
        "        # Compute embeddings for dishes.\n",
        "        self.dish_embeddings = tf.keras.Sequential([\n",
        "            tf.keras.layers.StringLookup(\n",
        "                vocabulary=unique_dish_names, mask_token=None),\n",
        "            tf.keras.layers.Embedding(len(unique_dish_names) + 1, embedding_dimension)\n",
        "        ])\n",
        "\n",
        "        # Final layer for predicting sugar content (rating).\n",
        "        self.rating_content_layer = tf.keras.Sequential([\n",
        "            tf.keras.layers.Dense(256, activation=\"relu\"),\n",
        "            tf.keras.layers.Dense(64, activation=\"relu\"),\n",
        "            tf.keras.layers.Dense(1)  # Output layer to predict rating from usr\n",
        "        ])\n",
        "\n",
        "    def call(self, inputs):\n",
        "        user_id, dish_name = inputs\n",
        "\n",
        "        # Get the user and dish embeddings\n",
        "        user_embedding = self.user_embeddings(user_id)\n",
        "        dish_embedding = self.dish_embeddings(dish_name)\n",
        "\n",
        "        # Concatenate the embeddings and predict rating\n",
        "        concatenated_embeddings = tf.concat([user_embedding, dish_embedding], axis=1)\n",
        "\n",
        "        # Predict rating using the final layer\n",
        "        return self.rating_content_layer(concatenated_embeddings)\n"
      ]
    },
    {
      "cell_type": "code",
      "execution_count": 30,
      "metadata": {
        "id": "E9u0Z3XtV4E-"
      },
      "outputs": [],
      "source": [
        "task = tfrs.tasks.Ranking(\n",
        "  loss = tf.keras.losses.MeanSquaredError(),\n",
        "  metrics=[tf.keras.metrics.RootMeanSquaredError()]\n",
        ")"
      ]
    },
    {
      "cell_type": "code",
      "execution_count": 31,
      "metadata": {
        "id": "Dieq6T1dWHZE"
      },
      "outputs": [],
      "source": [
        "class LowSugarFoodModel(tfrs.models.Model):\n",
        "\n",
        "    def __init__(self):\n",
        "        super().__init__()\n",
        "        # Initialize the ranking model that predicts sugar content.\n",
        "        self.ranking_model: tf.keras.Model = LowSugarRecommendationModel()\n",
        "\n",
        "        # The task for ranking food items based on predicted sugar content.\n",
        "        self.task: tf.keras.layers.Layer = task\n",
        "\n",
        "    def call(self, features: Dict[str, tf.Tensor]) -> tf.Tensor:\n",
        "        # Call the ranking model (low-sugar food recommendation).\n",
        "        return self.ranking_model(\n",
        "            (features[\"User ID\"], features[\"Dish Name\"])\n",
        "        )\n",
        "\n",
        "    def compute_loss(self, features: Dict[Text, tf.Tensor], training=False) -> tf.Tensor:\n",
        "        \"\"\"\n",
        "\n",
        "        Args:\n",
        "          features:\n",
        "          training:\n",
        "\n",
        "        Returns:\n",
        "\n",
        "        \"\"\"\n",
        "        # Pop the target value, which is rating.\n",
        "        labels = features.pop(\"Rating\")\n",
        "\n",
        "        # Get the predictions from the ranking model.\n",
        "        sugar_predictions = self(features)\n",
        "\n",
        "        # Compute and return the loss using the ranking task.\n",
        "        return self.task(labels=labels, predictions=sugar_predictions)"
      ]
    },
    {
      "cell_type": "code",
      "execution_count": 32,
      "metadata": {
        "id": "qgMfp98JWsfw"
      },
      "outputs": [],
      "source": [
        "model = LowSugarFoodModel()\n",
        "model.compile(optimizer=tf.keras.optimizers.Adagrad(learning_rate=0.1))"
      ]
    },
    {
      "cell_type": "code",
      "execution_count": 33,
      "metadata": {
        "id": "SbGj_uGxWzvA"
      },
      "outputs": [],
      "source": [
        "cached_train = train.shuffle(100_000).batch(8192).cache()\n",
        "cached_test = test.batch(4096).cache()"
      ]
    },
    {
      "cell_type": "code",
      "execution_count": 34,
      "metadata": {
        "colab": {
          "base_uri": "https://localhost:8080/"
        },
        "id": "2_1KXGzPW0YU",
        "outputId": "563f52aa-8948-4cc2-bc84-cc0f35e785db"
      },
      "outputs": [
        {
          "name": "stdout",
          "output_type": "stream",
          "text": [
            "Epoch 1/3\n",
            "10/10 [==============================] - 2s 66ms/step - root_mean_squared_error: 2.0453 - loss: 3.9463 - regularization_loss: 0.0000e+00 - total_loss: 3.9463\n",
            "Epoch 2/3\n",
            "10/10 [==============================] - 0s 44ms/step - root_mean_squared_error: 1.4256 - loss: 2.0329 - regularization_loss: 0.0000e+00 - total_loss: 2.0329\n",
            "Epoch 3/3\n",
            "10/10 [==============================] - 0s 43ms/step - root_mean_squared_error: 1.4204 - loss: 2.0191 - regularization_loss: 0.0000e+00 - total_loss: 2.0191\n"
          ]
        },
        {
          "data": {
            "text/plain": [
              "<tf_keras.src.callbacks.History at 0x7dc04ea3bf70>"
            ]
          },
          "execution_count": 34,
          "metadata": {},
          "output_type": "execute_result"
        }
      ],
      "source": [
        "model.fit(cached_train, epochs=3)"
      ]
    },
    {
      "cell_type": "code",
      "execution_count": 35,
      "metadata": {
        "colab": {
          "base_uri": "https://localhost:8080/"
        },
        "id": "zvWnLfh8W2It",
        "outputId": "4a6f38eb-f945-4c08-c939-86fab5526aa4"
      },
      "outputs": [
        {
          "name": "stdout",
          "output_type": "stream",
          "text": [
            "5/5 [==============================] - 1s 78ms/step - root_mean_squared_error: 1.4108 - loss: 1.9806 - regularization_loss: 0.0000e+00 - total_loss: 1.9806\n"
          ]
        },
        {
          "data": {
            "text/plain": [
              "{'root_mean_squared_error': 1.4108062982559204,\n",
              " 'loss': 1.9377663135528564,\n",
              " 'regularization_loss': 0,\n",
              " 'total_loss': 1.9377663135528564}"
            ]
          },
          "execution_count": 35,
          "metadata": {},
          "output_type": "execute_result"
        }
      ],
      "source": [
        "model.evaluate(cached_test, return_dict=True)"
      ]
    },
    {
      "cell_type": "code",
      "execution_count": 39,
      "metadata": {
        "colab": {
          "base_uri": "https://localhost:8080/"
        },
        "id": "121i9tGnW36M",
        "outputId": "c7d8a7fd-1b18-4bf6-8412-5994fa5ff001"
      },
      "outputs": [
        {
          "name": "stdout",
          "output_type": "stream",
          "text": [
            "Recommended Dishes (for user 85):\n",
            "chicken and butterbean casserole, 1 serving: 2.82 rating\n",
            "Favorite Dinner, 1 cup serving, 2 servings: 2.82 rating\n",
            "#1 Gyro - Greek Lamb Salad, 2 cup: 2.86 rating\n"
          ]
        }
      ],
      "source": [
        "# Example test dishes (correcting the format)\n",
        "test_dishes = [\n",
        "    \"chicken and butterbean casserole, 1 serving\",\n",
        "    \"#1 Gyro - Greek Lamb Salad, 2 cup\",\n",
        "    \"Favorite Dinner, 1 cup serving, 2 servings\"\n",
        "]\n",
        "\n",
        "# Dictionary to store predicted sugar content for each dish\n",
        "test_ratings = {}\n",
        "\n",
        "# Predict the sugar content for each dish for user 42\n",
        "for dish_name in test_dishes:\n",
        "    test_ratings[dish_name] = model({\n",
        "        \"User ID\": np.array([\"85\"]),  # User ID (could be any user)\n",
        "        \"Dish Name\": np.array([dish_name])  # The name of the dish\n",
        "    })\n",
        "\n",
        "# Sort dishes by predicted sugar content (from lowest to highest)\n",
        "sorted_dishes = sorted(test_ratings.items(), key=lambda x: x[1].numpy()[0][0])\n",
        "\n",
        "# Print the recommendations based on the lowest sugar content\n",
        "print(\"Recommended Dishes (for user 85):\")\n",
        "for dish, rating in sorted_dishes:\n",
        "    print(f\"{dish}: {rating.numpy()[0][0]:.2f} rating\")  # Access the scalar value for sugar content\n"
      ]
    },
    {
      "cell_type": "code",
      "execution_count": 43,
      "metadata": {
        "colab": {
          "base_uri": "https://localhost:8080/"
        },
        "id": "GLRMkQhCfrmN",
        "outputId": "4067fc21-ea88-4797-a0e5-fb2bde026d75"
      },
      "outputs": [
        {
          "name": "stdout",
          "output_type": "stream",
          "text": [
            "Top 10 recommended dishes for user 42 (excluding already eaten dishes):\n",
            "1. Monterey - Sliced Baby Bellas, 30 g: 3.03 rating\n",
            "2. Oliver's - Banana, 1 banana: 3.03 rating\n",
            "3. fresh - vegetables , 0.5 cup: 3.02 rating\n",
            "4. Homemade - Sauteed Veggies (Carrots, Green Beans, Brocolli, Cauliflower, Squash, Zucchini, Onion, Green Pepper), 2 c Cooked: 3.02 rating\n",
            "5. Eat Well/embrace Life - White Bean Hummus, 2 tbs: 3.02 rating\n",
            "6. 1 Stick Large - Celery, 2 stick 10\" long: 3.01 rating\n",
            "7. Scrambled Eggs (Aps) - 2 Large Eggs Scrambled In Coconut Oil, 1 eggs: 3.01 rating\n",
            "8. Phd Diet Whey - Whey, 1 scoop: 3.01 rating\n",
            "9. Panera - Baked Potato Soup (Pick 2), 1 cup: 3.01 rating\n",
            "10. Hershey's - Milk Chocolate Snack Size, 0.5 pieces: 3.01 rating\n"
          ]
        }
      ],
      "source": [
        "\n",
        "# The User ID you want to predict for\n",
        "user_id = 42  # Replace with the desired user ID\n",
        "\n",
        "# Filter out the dishes the user has already eaten\n",
        "user_history = df[df['User ID'] == user_id]['Dish Name'].unique()\n",
        "\n",
        "# List of all dishes to be considered (excluding those the user has already eaten)\n",
        "remaining_dishes = df[~df['Dish Name'].isin(user_history)]\n",
        "\n",
        "# Dictionary to store predicted ratings for each dish\n",
        "predicted_ratings = {}\n",
        "\n",
        "# Predict ratings for each remaining dish (assuming the 'model' is defined)\n",
        "for dish_name in remaining_dishes['Dish Name'].unique():\n",
        "    # Ensure both user_id and dish_name are passed as strings if the model expects them as strings\n",
        "    predicted_ratings[dish_name] = model({\n",
        "        \"User ID\": np.array([str(user_id)]),  # Convert user_id to string\n",
        "        \"Dish Name\": np.array([dish_name])  # dish_name is already a string\n",
        "    })\n",
        "\n",
        "# Sort dishes by predicted ratings (from highest to lowest)\n",
        "sorted_dishes = sorted(predicted_ratings.items(), key=lambda x: x[1].numpy()[0][0], reverse=True)\n",
        "\n",
        "# Print the top 10 dishes with the highest predicted ratings\n",
        "print(f\"Top 10 recommended dishes for user {user_id} (excluding already eaten dishes):\")\n",
        "for i, (dish, rating) in enumerate(sorted_dishes[:10]):\n",
        "    print(f\"{i+1}. {dish}: {rating.numpy()[0][0]:.2f} rating\")  # Access the scalar value for the predicted rating\n"
      ]
    },
    {
      "cell_type": "code",
      "execution_count": 44,
      "metadata": {
        "colab": {
          "base_uri": "https://localhost:8080/"
        },
        "id": "b1vMEkBukdkU",
        "outputId": "8dace45a-9259-4091-8a2a-66384ff4eeee"
      },
      "outputs": [
        {
          "name": "stdout",
          "output_type": "stream",
          "text": [
            "Top 3 recommended dishes for user 42 (lowest sugar content):\n",
            "1. Monterey - Sliced Baby Bellas, 30 g: 3.03 rating, 0.00 sugar\n",
            "2. fresh - vegetables , 0.5 cup: 3.02 rating, 0.00 sugar\n",
            "3. Eat Well/embrace Life - White Bean Hummus, 2 tbs: 3.02 rating, 0.00 sugar\n"
          ]
        }
      ],
      "source": [
        "# Get the top 10 recommended dishes\n",
        "top_10_dishes = sorted_dishes[:10]\n",
        "\n",
        "# Now, sort the top 10 dishes by sugar content (from lowest to highest)\n",
        "top_10_dishes_with_sugar = [(dish, rating, df[df['Dish Name'] == dish]['Sugar'].values[0]) for dish, rating in top_10_dishes]\n",
        "\n",
        "# Sort the top 10 dishes by sugar content\n",
        "sorted_by_sugar = sorted(top_10_dishes_with_sugar, key=lambda x: x[2])  # Sort by sugar content (x[2] is sugar)\n",
        "\n",
        "# Print the top 3 dishes with the least sugar\n",
        "print(f\"Top 3 recommended dishes for user {user_id} (lowest sugar content):\")\n",
        "for i, (dish, rating, sugar) in enumerate(sorted_by_sugar[:3]):\n",
        "    print(f\"{i+1}. {dish}: {rating.numpy()[0][0]:.2f} rating, {sugar:.2f} sugar\")"
      ]
    }
  ],
  "metadata": {
    "accelerator": "GPU",
    "colab": {
      "gpuType": "T4",
      "provenance": []
    },
    "kernelspec": {
      "display_name": "Python 3",
      "name": "python3"
    },
    "language_info": {
      "name": "python"
    }
  },
  "nbformat": 4,
  "nbformat_minor": 0
}
